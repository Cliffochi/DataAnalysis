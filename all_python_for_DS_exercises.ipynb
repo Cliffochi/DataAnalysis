{
  "nbformat": 4,
  "nbformat_minor": 0,
  "metadata": {
    "colab": {
      "provenance": [],
      "include_colab_link": true
    },
    "kernelspec": {
      "name": "python3",
      "display_name": "Python 3"
    },
    "language_info": {
      "name": "python"
    }
  },
  "cells": [
    {
      "cell_type": "markdown",
      "metadata": {
        "id": "view-in-github",
        "colab_type": "text"
      },
      "source": [
        "<a href=\"https://colab.research.google.com/github/Cliffochi/DataAnalysis/blob/main/all_python_for_DS_exercises.ipynb\" target=\"_parent\"><img src=\"https://colab.research.google.com/assets/colab-badge.svg\" alt=\"Open In Colab\"/></a>"
      ]
    },
    {
      "cell_type": "markdown",
      "source": [
        "This code is an example for nested loops  \n",
        "Prints all the tiles in a game of dominos"
      ],
      "metadata": {
        "id": "GfZSNtJSnWSA"
      }
    },
    {
      "cell_type": "code",
      "source": [
        "for left in range(7):\n",
        "  for right in range(left, 7):\n",
        "    print(f\"[{left}, {right}]\", end=\" \")\n",
        "  print('\\n')"
      ],
      "metadata": {
        "colab": {
          "base_uri": "https://localhost:8080/"
        },
        "id": "lXiSdL1WnoYc",
        "outputId": "41697f65-da1d-4639-d9e8-d9a8c1db4535"
      },
      "execution_count": null,
      "outputs": [
        {
          "output_type": "stream",
          "name": "stdout",
          "text": [
            "[0, 0] [0, 1] [0, 2] [0, 3] [0, 4] [0, 5] [0, 6] \n",
            "\n",
            "[1, 1] [1, 2] [1, 3] [1, 4] [1, 5] [1, 6] \n",
            "\n",
            "[2, 2] [2, 3] [2, 4] [2, 5] [2, 6] \n",
            "\n",
            "[3, 3] [3, 4] [3, 5] [3, 6] \n",
            "\n",
            "[4, 4] [4, 5] [4, 6] \n",
            "\n",
            "[5, 5] [5, 6] \n",
            "\n",
            "[6, 6] \n",
            "\n"
          ]
        }
      ]
    },
    {
      "cell_type": "markdown",
      "source": [
        "Data conversion in python"
      ],
      "metadata": {
        "id": "wIFxilCD-q4B"
      }
    },
    {
      "cell_type": "code",
      "source": [
        "# int to float\n",
        "print(float(2))\n",
        "print(type(float(2)))\n",
        "\n",
        "# float to int\n",
        "print(int(3.5))\n",
        "print(type(int(3.5)))\n",
        "\n",
        "# lets try convert a floating point number using float and see what happens\n",
        "print(float(2.0))\n",
        "print(type(float(2.0)))\n",
        "\n",
        "# lists and tuples\n",
        "monthly_average_temperatures = [6, 7, 9, 15, 20, 22, 27, 26, 23, 17, 12, 7]\n",
        "print(monthly_average_temperatures)\n",
        "print(type(monthly_average_temperatures))\n",
        "\n",
        "# lists are mutable\n",
        "print(monthly_average_temperatures[5])\n",
        "monthly_average_temperatures[5] = 24\n",
        "print(monthly_average_temperatures[5])\n",
        "\n",
        "#slicing\n",
        "print(monthly_average_temperatures[3:8])\n",
        "\n",
        "# extraction at a specified interval\n",
        "print(monthly_average_temperatures[0:7:2])\n",
        "print(monthly_average_temperatures[::5])\n",
        "\n",
        "# length of a list\n",
        "print(len(monthly_average_temperatures))\n",
        "\n",
        "# list methods\n",
        "numbers = [0, 1, 2, 3]\n",
        "numbers.append(5)\n",
        "print(numbers)\n"
      ],
      "metadata": {
        "id": "eGZ32pHooefL",
        "colab": {
          "base_uri": "https://localhost:8080/"
        },
        "outputId": "702dc35d-69bf-48e6-e2e0-faf6be3de2a4"
      },
      "execution_count": 8,
      "outputs": [
        {
          "output_type": "stream",
          "name": "stdout",
          "text": [
            "[0, 1, 2, 3, 4, 5]\n"
          ]
        }
      ]
    }
  ]
}