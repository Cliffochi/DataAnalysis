{
  "nbformat": 4,
  "nbformat_minor": 0,
  "metadata": {
    "colab": {
      "provenance": [],
      "include_colab_link": true
    },
    "kernelspec": {
      "name": "python3",
      "display_name": "Python 3"
    },
    "language_info": {
      "name": "python"
    }
  },
  "cells": [
    {
      "cell_type": "markdown",
      "metadata": {
        "id": "view-in-github",
        "colab_type": "text"
      },
      "source": [
        "<a href=\"https://colab.research.google.com/github/Cliffochi/DataAnalysis/blob/main/all_python_for_DS_exercises.ipynb\" target=\"_parent\"><img src=\"https://colab.research.google.com/assets/colab-badge.svg\" alt=\"Open In Colab\"/></a>"
      ]
    },
    {
      "cell_type": "markdown",
      "source": [
        "This code is an example for nested loops  \n",
        "Prints all the tiles in a game of dominos"
      ],
      "metadata": {
        "id": "GfZSNtJSnWSA"
      }
    },
    {
      "cell_type": "code",
      "source": [
        "for left in range(7):\n",
        "  for right in range(left, 7):\n",
        "    print(f\"[{left}, {right}]\", end=\" \")\n",
        "  print('\\n')"
      ],
      "metadata": {
        "colab": {
          "base_uri": "https://localhost:8080/"
        },
        "id": "lXiSdL1WnoYc",
        "outputId": "41697f65-da1d-4639-d9e8-d9a8c1db4535"
      },
      "execution_count": null,
      "outputs": [
        {
          "output_type": "stream",
          "name": "stdout",
          "text": [
            "[0, 0] [0, 1] [0, 2] [0, 3] [0, 4] [0, 5] [0, 6] \n",
            "\n",
            "[1, 1] [1, 2] [1, 3] [1, 4] [1, 5] [1, 6] \n",
            "\n",
            "[2, 2] [2, 3] [2, 4] [2, 5] [2, 6] \n",
            "\n",
            "[3, 3] [3, 4] [3, 5] [3, 6] \n",
            "\n",
            "[4, 4] [4, 5] [4, 6] \n",
            "\n",
            "[5, 5] [5, 6] \n",
            "\n",
            "[6, 6] \n",
            "\n"
          ]
        }
      ]
    },
    {
      "cell_type": "markdown",
      "source": [
        "Data conversion in python"
      ],
      "metadata": {
        "id": "wIFxilCD-q4B"
      }
    },
    {
      "cell_type": "code",
      "source": [
        "# int to float\n",
        "print(float(2))\n",
        "print(type(float(2)))\n",
        "\n",
        "# float to int\n",
        "print(int(3.5))\n",
        "print(type(int(3.5)))\n",
        "\n",
        "# lets try convert a floating point number using float and see what happens\n",
        "print(float(2.0))\n",
        "print(type(float(2.0)))\n"
      ],
      "metadata": {
        "id": "eGZ32pHooefL",
        "outputId": "89c4fee7-00df-4739-d001-3775b47fec4a",
        "colab": {
          "base_uri": "https://localhost:8080/"
        }
      },
      "execution_count": 4,
      "outputs": [
        {
          "output_type": "stream",
          "name": "stdout",
          "text": [
            "2.0\n",
            "<class 'float'>\n",
            "3\n",
            "<class 'int'>\n",
            "2.0\n",
            "<class 'float'>\n"
          ]
        }
      ]
    },
    {
      "cell_type": "code",
      "source": [],
      "metadata": {
        "id": "2s3wq_pZ-3yi"
      },
      "execution_count": null,
      "outputs": []
    }
  ]
}